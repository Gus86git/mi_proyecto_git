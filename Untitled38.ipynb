{
  "nbformat": 4,
  "nbformat_minor": 0,
  "metadata": {
    "colab": {
      "provenance": [],
      "authorship_tag": "ABX9TyPN3QJCYkMvusXNrOWmM1Kw",
      "include_colab_link": true
    },
    "kernelspec": {
      "name": "python3",
      "display_name": "Python 3"
    },
    "language_info": {
      "name": "python"
    }
  },
  "cells": [
    {
      "cell_type": "markdown",
      "metadata": {
        "id": "view-in-github",
        "colab_type": "text"
      },
      "source": [
        "<a href=\"https://colab.research.google.com/github/Gus86git/mi_proyecto_git/blob/main/Untitled38.ipynb\" target=\"_parent\"><img src=\"https://colab.research.google.com/assets/colab-badge.svg\" alt=\"Open In Colab\"/></a>"
      ]
    },
    {
      "cell_type": "markdown",
      "source": [
        "# **Introducción a Git y Control de Versiones**"
      ],
      "metadata": {
        "id": "eRiutNHZ0jf3"
      }
    },
    {
      "cell_type": "markdown",
      "source": [
        "Git es un sistema de control de versiones distribuido que permite a múltiples desarrolladores trabajar en un proyecto al mismo tiempo sin sobrescribir los cambios del otro. También permite mantener un historial de versiones del proyecto, lo que facilita revertir a versiones anteriores, comparar cambios y colaborar de manera eficiente."
      ],
      "metadata": {
        "id": "IK5vwUCX0mXu"
      }
    },
    {
      "cell_type": "markdown",
      "source": [
        "El control de versiones es una práctica que permite gestionar los cambios realizados en archivos, especialmente en proyectos de software. Cada cambio se registra como una versión, lo que permite:\n",
        "\n",
        "Guardar el historial de cambios a lo largo del tiempo.\n",
        "\n",
        "Revertir archivos a versiones anteriores.\n",
        "\n",
        "Comparar versiones para identificar diferencias.\n",
        "\n",
        "Colaborar con otros sin sobrescribir su trabajo."
      ],
      "metadata": {
        "id": "iNACPzMD00Wt"
      }
    },
    {
      "cell_type": "markdown",
      "source": [
        "**Ventajas:**\n",
        "\n",
        "**Distribuido**: A diferencia de sistemas centralizados como SVN (Subversion), Git permite que cada colaborador tenga una copia completa del historial del proyecto.\n",
        "\n",
        "**Velocidad**: Las operaciones en Git (como hacer commits, ver el historial) son rápidas porque la mayoría de ellas se realizan localmente.\n",
        "\n",
        "**Flexibilidad**: Git soporta múltiples flujos de trabajo, como el branching y el merging, lo que facilita la creación de ramas para diferentes características y su posterior combinación.\n",
        "\n",
        "**Popularidad:** Git se ha convertido en el sistema estándar para la mayoría de los proyectos open source y privados, en parte por la integración con plataformas como GitHub."
      ],
      "metadata": {
        "id": "YKPw7Gjy053l"
      }
    },
    {
      "cell_type": "markdown",
      "source": [
        "**Instalación de Git**"
      ],
      "metadata": {
        "id": "n3mv0gIv1Uoo"
      }
    },
    {
      "cell_type": "markdown",
      "source": [
        "**Linux**"
      ],
      "metadata": {
        "id": "IR-Qj5HW1WWW"
      }
    },
    {
      "cell_type": "markdown",
      "source": [
        "\n",
        "\n",
        "```\n",
        "sudo apt update\n",
        "sudo apt install git\n",
        "```\n",
        "\n"
      ],
      "metadata": {
        "id": "PPV2VrpO1ZpO"
      }
    },
    {
      "cell_type": "markdown",
      "source": [
        "**macOS:**"
      ],
      "metadata": {
        "id": "qghB7bE61eJY"
      }
    },
    {
      "cell_type": "markdown",
      "source": [
        "\n",
        "\n",
        "```\n",
        "brew install git\n",
        "```\n",
        "\n"
      ],
      "metadata": {
        "id": "WdT6cpcN1ebn"
      }
    },
    {
      "cell_type": "markdown",
      "source": [
        "**Windows:**"
      ],
      "metadata": {
        "id": "QHDOgug-127v"
      }
    },
    {
      "cell_type": "markdown",
      "source": [
        "https://git-scm.com/"
      ],
      "metadata": {
        "id": "-1qJuh6c2hmf"
      }
    },
    {
      "cell_type": "markdown",
      "source": [
        "\n",
        "Descargar el instalador de Git."
      ],
      "metadata": {
        "id": "Jp4I6YN52L9j"
      }
    },
    {
      "cell_type": "markdown",
      "source": [
        "**Comandos Básicos de Git**"
      ],
      "metadata": {
        "id": "vFX9Ywwo2vL4"
      }
    },
    {
      "cell_type": "markdown",
      "source": [
        "**git config:** Permite configurar las opciones de Git.\n",
        "\n",
        "Esto establece el nombre y rl email globalmente para todos los repositorios."
      ],
      "metadata": {
        "id": "r62P9BUA3bx_"
      }
    },
    {
      "cell_type": "markdown",
      "source": [
        "\n",
        "\n",
        "```\n",
        "git config --global user.name \"Tu Nombre\"\n",
        "git config --global user.email \"tu_email@dominio.com\"\n",
        "\n",
        "```\n",
        "\n"
      ],
      "metadata": {
        "id": "XaJuoojz2wnS"
      }
    },
    {
      "cell_type": "markdown",
      "source": [
        "**git help**: Muestra la documentación o ayuda para un comando específico."
      ],
      "metadata": {
        "id": "WN2OM5B_1fBv"
      }
    },
    {
      "cell_type": "markdown",
      "source": [
        "\n",
        "\n",
        "```\n",
        "git help <comando>\n",
        "```\n",
        "\n"
      ],
      "metadata": {
        "id": "MIN8MAjW39ku"
      }
    },
    {
      "cell_type": "markdown",
      "source": [
        "Por ejemplo, **git help commit** muestra la documentación del comando commit."
      ],
      "metadata": {
        "id": "7QyGihfb4C39"
      }
    },
    {
      "cell_type": "markdown",
      "source": [
        "**Google Colab** también permite ejecutar comandos de Git mediante su integración con la terminal Bash. A continuación se describen los pasos para practicar en este entorno:"
      ],
      "metadata": {
        "id": "ss8UXlkE4Ppj"
      }
    },
    {
      "cell_type": "markdown",
      "source": [
        "**Ejecutar comandos de Git en Colab:**"
      ],
      "metadata": {
        "id": "7A17ro8G4YTb"
      }
    },
    {
      "cell_type": "markdown",
      "source": [
        "Para ejecutar comandos en la terminal, se usa **!** antes del comando.\n",
        "Por ejemplo, para verificar la versión de Git instalada"
      ],
      "metadata": {
        "id": "Axlqs3794dgw"
      }
    },
    {
      "cell_type": "code",
      "execution_count": 1,
      "metadata": {
        "colab": {
          "base_uri": "https://localhost:8080/"
        },
        "id": "zkBnKKR3n-Ll",
        "outputId": "7b0a8b10-0dc6-4361-deaa-702b25a7af45"
      },
      "outputs": [
        {
          "output_type": "stream",
          "name": "stdout",
          "text": [
            "git version 2.34.1\n"
          ]
        }
      ],
      "source": [
        "!git --version"
      ]
    },
    {
      "cell_type": "code",
      "source": [
        "!git help init"
      ],
      "metadata": {
        "colab": {
          "base_uri": "https://localhost:8080/"
        },
        "id": "yTn_a8He48mR",
        "outputId": "53e40493-45db-4489-a3fc-4b3bf8e4d0c5"
      },
      "execution_count": 5,
      "outputs": [
        {
          "output_type": "stream",
          "name": "stdout",
          "text": [
            "This system has been minimized by removing packages and content that are\n",
            "not required on a system that users do not log into.\n",
            "\n",
            "To restore this content, including manpages, you can run the 'unminimize'\n",
            "command. You will still need to ensure the 'man-db' package is installed.\n"
          ]
        }
      ]
    },
    {
      "cell_type": "markdown",
      "source": [
        "**Configuración de usuario:**"
      ],
      "metadata": {
        "id": "59zRR5ga45zA"
      }
    },
    {
      "cell_type": "code",
      "source": [
        "!git config --global user.name \"Gus86git\"\n",
        "!git config --global user.email \"gus.gjb86@gmail.com\""
      ],
      "metadata": {
        "id": "mgxYzRb4oHhg"
      },
      "execution_count": 3,
      "outputs": []
    },
    {
      "cell_type": "markdown",
      "source": [
        "**Inicializar un repositorio:**"
      ],
      "metadata": {
        "id": "3FE1z-UO5oMA"
      }
    },
    {
      "cell_type": "code",
      "source": [
        "!mkdir mi_proyecto\n",
        "%cd mi_proyecto\n",
        "!git init"
      ],
      "metadata": {
        "colab": {
          "base_uri": "https://localhost:8080/"
        },
        "id": "wLWovQ35oMiA",
        "outputId": "bf599806-b527-4c9a-9670-eb927f335a7c"
      },
      "execution_count": 4,
      "outputs": [
        {
          "output_type": "stream",
          "name": "stdout",
          "text": [
            "/content/mi_proyecto\n",
            "\u001b[33mhint: Using 'master' as the name for the initial branch. This default branch name\u001b[m\n",
            "\u001b[33mhint: is subject to change. To configure the initial branch name to use in all\u001b[m\n",
            "\u001b[33mhint: of your new repositories, which will suppress this warning, call:\u001b[m\n",
            "\u001b[33mhint: \u001b[m\n",
            "\u001b[33mhint: \tgit config --global init.defaultBranch <name>\u001b[m\n",
            "\u001b[33mhint: \u001b[m\n",
            "\u001b[33mhint: Names commonly chosen instead of 'master' are 'main', 'trunk' and\u001b[m\n",
            "\u001b[33mhint: 'development'. The just-created branch can be renamed via this command:\u001b[m\n",
            "\u001b[33mhint: \u001b[m\n",
            "\u001b[33mhint: \tgit branch -m <name>\u001b[m\n",
            "Initialized empty Git repository in /content/mi_proyecto/.git/\n"
          ]
        }
      ]
    },
    {
      "cell_type": "markdown",
      "source": [
        "# **Flujo de Trabajo en Git**"
      ],
      "metadata": {
        "id": "yDrMBjbt6U-M"
      }
    },
    {
      "cell_type": "markdown",
      "source": [
        " **El Ciclo Básico en Git**"
      ],
      "metadata": {
        "id": "q3kLtWIo6Xsk"
      }
    },
    {
      "cell_type": "markdown",
      "source": [
        "Git sigue un ciclo básico de trabajo, que consiste en varias fases clave: inicializar el repositorio, agregar archivos al área de preparación, hacer un commit y verificar el estado del repositorio"
      ],
      "metadata": {
        "id": "OyNN2Q8b8QJD"
      }
    },
    {
      "cell_type": "markdown",
      "source": [
        "##**git init: Inicializando un Repositorio**\n",
        "\n",
        "Este comando se utiliza para crear un nuevo repositorio de Git en el directorio actual. Crea una carpeta **.git** que contiene toda la información necesaria para el control de versiones."
      ],
      "metadata": {
        "id": "V9x7bW0N8blK"
      }
    },
    {
      "cell_type": "markdown",
      "source": [
        "\n",
        "\n",
        "```\n",
        "git init\n",
        "```\n",
        "\n"
      ],
      "metadata": {
        "id": "U6m_iUJI8kES"
      }
    },
    {
      "cell_type": "markdown",
      "source": [
        "##**git add: Añadiendo Cambios al Área de Preparación (Staging)**\n",
        "\n",
        "El comando **git add** mueve los archivos modificados o nuevos al área de preparación (staging area), lo que indica que están listos para ser comiteados."
      ],
      "metadata": {
        "id": "roxDaEcD8j_K"
      }
    },
    {
      "cell_type": "markdown",
      "source": [
        "Se puede agregar un archivo específico"
      ],
      "metadata": {
        "id": "BHviL7EY9sBO"
      }
    },
    {
      "cell_type": "markdown",
      "source": [
        "\n",
        "\n",
        "```\n",
        "git add archivo.txt\n",
        "```\n",
        "\n"
      ],
      "metadata": {
        "id": "Ya38py3p8j6q"
      }
    },
    {
      "cell_type": "markdown",
      "source": [
        "O agregar todos los archivos modificados"
      ],
      "metadata": {
        "id": "CPZi3OqT9Qgp"
      }
    },
    {
      "cell_type": "markdown",
      "source": [
        "\n",
        "```\n",
        "git add .\n",
        "```\n",
        "\n"
      ],
      "metadata": {
        "id": "a8VUOHxw8jp6"
      }
    },
    {
      "cell_type": "markdown",
      "source": [
        "##**git commit: Guardando Cambios con un Mensaje**\n",
        "\n",
        "Los cambios agregados al área de preparación se guardan en el historial del repositorio mediante un commit, que también debe incluir un mensaje descriptivo sobre lo que se ha modificado.\n"
      ],
      "metadata": {
        "id": "gUjjg0Ij9c2y"
      }
    },
    {
      "cell_type": "markdown",
      "source": [
        "\n",
        "\n",
        "```\n",
        "git commit -m \"Descripción clara de los cambios\"\n",
        "```\n",
        "\n"
      ],
      "metadata": {
        "id": "J0TAbB4L9Rio"
      }
    },
    {
      "cell_type": "markdown",
      "source": [
        "##**git status: Verificando el Estado del Repositorio**\n",
        "\n",
        "Este comando muestra el estado actual del repositorio, indicando si hay archivos modificados, si están preparados para el commit, o si hay cambios pendientes."
      ],
      "metadata": {
        "id": "fqDzG9Sd9clz"
      }
    },
    {
      "cell_type": "markdown",
      "source": [
        "\n",
        "```\n",
        "git status\n",
        "```\n",
        "\n"
      ],
      "metadata": {
        "id": "Ut3kYi5u9ZK8"
      }
    },
    {
      "cell_type": "markdown",
      "source": [
        "##**git log: Ver el Historial de Commits**\n",
        "\n",
        "Este comando muestra un registro detallado de los commits realizados en el repositorio, con información como el autor, la fecha y el mensaje del commit.\n"
      ],
      "metadata": {
        "id": "WfVoU5RO-0Pi"
      }
    },
    {
      "cell_type": "markdown",
      "source": [
        "\n",
        "\n",
        "```\n",
        "git log\n",
        "```\n",
        "\n"
      ],
      "metadata": {
        "id": "h_fA0APZ-3Za"
      }
    },
    {
      "cell_type": "markdown",
      "source": [
        "##**git diff: Ver las Diferencias Entre Cambios**\n",
        "\n",
        "Compara los cambios entre la versión más reciente y el área de trabajo. Muestra las líneas añadidas o eliminadas."
      ],
      "metadata": {
        "id": "YPKMLu_k_BmC"
      }
    },
    {
      "cell_type": "markdown",
      "source": [
        "\n",
        "\n",
        "```\n",
        "git diff\n",
        "```\n",
        "\n"
      ],
      "metadata": {
        "id": "mQ999fqZ_Hg6"
      }
    },
    {
      "cell_type": "markdown",
      "source": [
        "##**git show: Ver Detalles de un Commit Específico**\n",
        "\n",
        "Muestra detalles sobre un commit específico, incluyendo las diferencias entre ese commit y el anterior."
      ],
      "metadata": {
        "id": "eXfWOVXw_KL-"
      }
    },
    {
      "cell_type": "markdown",
      "source": [
        "\n",
        "\n",
        "```\n",
        "git show <ID_commit>\n",
        "```\n",
        "\n"
      ],
      "metadata": {
        "id": "HCSXa2DK_Tga"
      }
    },
    {
      "cell_type": "code",
      "source": [],
      "metadata": {
        "id": "85dgixnsoS1H"
      },
      "execution_count": null,
      "outputs": []
    },
    {
      "cell_type": "markdown",
      "source": [
        "#**Crear un Proyecto y Archivo en Google Colab con Git**"
      ],
      "metadata": {
        "id": "qh15z7Yw_fQp"
      }
    },
    {
      "cell_type": "markdown",
      "source": [
        "**Crear un directorio para el proyecto**"
      ],
      "metadata": {
        "id": "AfDeFyTn_mnK"
      }
    },
    {
      "cell_type": "code",
      "source": [
        "!mkdir mi_proyecto_git\n",
        "%cd mi_proyecto_git"
      ],
      "metadata": {
        "colab": {
          "base_uri": "https://localhost:8080/"
        },
        "id": "PHNQotvL_uY5",
        "outputId": "963c7cd0-fa7b-4ef6-f6ac-ae0a4c3ad1b2"
      },
      "execution_count": 6,
      "outputs": [
        {
          "output_type": "stream",
          "name": "stdout",
          "text": [
            "/content/mi_proyecto/mi_proyecto_git\n"
          ]
        }
      ]
    },
    {
      "cell_type": "markdown",
      "source": [
        "**Inicializar un nuevo repositorio de Git:**"
      ],
      "metadata": {
        "id": "AGn0bEFA_6pw"
      }
    },
    {
      "cell_type": "code",
      "source": [
        "!git init"
      ],
      "metadata": {
        "colab": {
          "base_uri": "https://localhost:8080/"
        },
        "id": "7iQTdgEQ_6SR",
        "outputId": "06538ffc-8272-4216-f854-db0783cc74c4"
      },
      "execution_count": 7,
      "outputs": [
        {
          "output_type": "stream",
          "name": "stdout",
          "text": [
            "\u001b[33mhint: Using 'master' as the name for the initial branch. This default branch name\u001b[m\n",
            "\u001b[33mhint: is subject to change. To configure the initial branch name to use in all\u001b[m\n",
            "\u001b[33mhint: of your new repositories, which will suppress this warning, call:\u001b[m\n",
            "\u001b[33mhint: \u001b[m\n",
            "\u001b[33mhint: \tgit config --global init.defaultBranch <name>\u001b[m\n",
            "\u001b[33mhint: \u001b[m\n",
            "\u001b[33mhint: Names commonly chosen instead of 'master' are 'main', 'trunk' and\u001b[m\n",
            "\u001b[33mhint: 'development'. The just-created branch can be renamed via this command:\u001b[m\n",
            "\u001b[33mhint: \u001b[m\n",
            "\u001b[33mhint: \tgit branch -m <name>\u001b[m\n",
            "Initialized empty Git repository in /content/mi_proyecto/mi_proyecto_git/.git/\n"
          ]
        }
      ]
    },
    {
      "cell_type": "markdown",
      "source": [
        "**Crear un archivo de texto simple:**"
      ],
      "metadata": {
        "id": "PUX5oqCgALEB"
      }
    },
    {
      "cell_type": "code",
      "source": [
        "%%writefile archivo.txt\n",
        "Esta es la primera línea del archivo."
      ],
      "metadata": {
        "colab": {
          "base_uri": "https://localhost:8080/"
        },
        "id": "MD6_uNRBANDZ",
        "outputId": "36a8ba95-2ff6-4a98-8853-9b577e07fb93"
      },
      "execution_count": 8,
      "outputs": [
        {
          "output_type": "stream",
          "name": "stdout",
          "text": [
            "Writing archivo.txt\n"
          ]
        }
      ]
    },
    {
      "cell_type": "markdown",
      "source": [
        "**Añadir el Archivo al Área de Preparación y Comitear**"
      ],
      "metadata": {
        "id": "hhqQHe_qAUMA"
      }
    },
    {
      "cell_type": "code",
      "source": [
        "!git add archivo.txt"
      ],
      "metadata": {
        "id": "h45VMLXcAbmf"
      },
      "execution_count": 9,
      "outputs": []
    },
    {
      "cell_type": "markdown",
      "source": [
        "**Verificar el estado del repositorio:**"
      ],
      "metadata": {
        "id": "Qyu2awxnAbKB"
      }
    },
    {
      "cell_type": "code",
      "source": [
        "!git status"
      ],
      "metadata": {
        "colab": {
          "base_uri": "https://localhost:8080/"
        },
        "id": "O0lPWJExAhaX",
        "outputId": "66651109-472a-4581-8827-280a0b303f98"
      },
      "execution_count": 10,
      "outputs": [
        {
          "output_type": "stream",
          "name": "stdout",
          "text": [
            "On branch master\n",
            "\n",
            "No commits yet\n",
            "\n",
            "Changes to be committed:\n",
            "  (use \"git rm --cached <file>...\" to unstage)\n",
            "\t\u001b[32mnew file:   archivo.txt\u001b[m\n",
            "\n"
          ]
        }
      ]
    },
    {
      "cell_type": "markdown",
      "source": [
        "**Hacer un commit con un mensaje descriptivo:**"
      ],
      "metadata": {
        "id": "hriEnfemAxCF"
      }
    },
    {
      "cell_type": "code",
      "source": [
        "!git commit -m \"Añadir archivo.txt con una línea de texto\""
      ],
      "metadata": {
        "colab": {
          "base_uri": "https://localhost:8080/"
        },
        "id": "xKwj367GAtbY",
        "outputId": "a0fd12fe-9597-4888-eebf-f8a24935e9bd"
      },
      "execution_count": 11,
      "outputs": [
        {
          "output_type": "stream",
          "name": "stdout",
          "text": [
            "[master (root-commit) 6f46ab0] Añadir archivo.txt con una línea de texto\n",
            " 1 file changed, 1 insertion(+)\n",
            " create mode 100644 archivo.txt\n"
          ]
        }
      ]
    },
    {
      "cell_type": "code",
      "source": [
        "!git status"
      ],
      "metadata": {
        "colab": {
          "base_uri": "https://localhost:8080/"
        },
        "id": "wBjawac0A3N1",
        "outputId": "254d69ac-a47d-47c6-a050-9fa71672c56d"
      },
      "execution_count": 12,
      "outputs": [
        {
          "output_type": "stream",
          "name": "stdout",
          "text": [
            "On branch master\n",
            "nothing to commit, working tree clean\n"
          ]
        }
      ]
    },
    {
      "cell_type": "markdown",
      "source": [
        "**Modificar el Archivo y Realizar un Nuevo Commit**"
      ],
      "metadata": {
        "id": "xooygdOyBBlo"
      }
    },
    {
      "cell_type": "code",
      "source": [
        "%%writefile archivo.txt\n",
        "Esta es la primera línea del archivo.\n",
        "Esta es una segunda línea añadida al archivo."
      ],
      "metadata": {
        "colab": {
          "base_uri": "https://localhost:8080/"
        },
        "id": "y9-FN_xFBGaY",
        "outputId": "33801025-f0c9-4f8f-ad2e-edbcd675fe8b"
      },
      "execution_count": 13,
      "outputs": [
        {
          "output_type": "stream",
          "name": "stdout",
          "text": [
            "Overwriting archivo.txt\n"
          ]
        }
      ]
    },
    {
      "cell_type": "markdown",
      "source": [
        "**Añadir el archivo modificado al área de preparación:**"
      ],
      "metadata": {
        "id": "GFE5J0ElBUEw"
      }
    },
    {
      "cell_type": "code",
      "source": [
        "!git add archivo.txt"
      ],
      "metadata": {
        "id": "f3b7fT52BQLh"
      },
      "execution_count": 14,
      "outputs": []
    },
    {
      "cell_type": "markdown",
      "source": [
        "**Hacer un segundo commit:**"
      ],
      "metadata": {
        "id": "0WQlwiZvBZrg"
      }
    },
    {
      "cell_type": "code",
      "source": [
        "!git commit -m \"Añadir una segunda línea al archivo.txt\""
      ],
      "metadata": {
        "colab": {
          "base_uri": "https://localhost:8080/"
        },
        "id": "Im605DjpBg8f",
        "outputId": "7b6d47c1-7a97-4a2d-a474-93855e9ca48e"
      },
      "execution_count": 15,
      "outputs": [
        {
          "output_type": "stream",
          "name": "stdout",
          "text": [
            "[master d296362] Añadir una segunda línea al archivo.txt\n",
            " 1 file changed, 1 insertion(+)\n"
          ]
        }
      ]
    },
    {
      "cell_type": "markdown",
      "source": [
        "**Visualizar el Historial y Analizar los Cambios**"
      ],
      "metadata": {
        "id": "zzCzu3lnBmcv"
      }
    },
    {
      "cell_type": "code",
      "source": [
        "!git log"
      ],
      "metadata": {
        "colab": {
          "base_uri": "https://localhost:8080/"
        },
        "id": "4Duv4mUHBlv5",
        "outputId": "e079e250-bf03-4e2f-ab06-7c212b030557"
      },
      "execution_count": 16,
      "outputs": [
        {
          "output_type": "stream",
          "name": "stdout",
          "text": [
            "\u001b[33mcommit d29636281fa2c09f4d8de3298398443ee8c2b6ca\u001b[m\u001b[33m (\u001b[m\u001b[1;36mHEAD -> \u001b[m\u001b[1;32mmaster\u001b[m\u001b[33m)\u001b[m\n",
            "Author: Gus86git <gus.gjb86@gmail.com>\n",
            "Date:   Thu Sep 26 20:29:20 2024 +0000\n",
            "\n",
            "    Añadir una segunda línea al archivo.txt\n",
            "\n",
            "\u001b[33mcommit 6f46ab01e965414b8b8a905fc3663f8876379eda\u001b[m\n",
            "Author: Gus86git <gus.gjb86@gmail.com>\n",
            "Date:   Thu Sep 26 20:26:19 2024 +0000\n",
            "\n",
            "    Añadir archivo.txt con una línea de texto\n"
          ]
        }
      ]
    },
    {
      "cell_type": "markdown",
      "source": [
        "Ver las diferencias entre la versión actual y la anterior:"
      ],
      "metadata": {
        "id": "k3B2p1dhBycG"
      }
    },
    {
      "cell_type": "code",
      "source": [
        "!git diff HEAD^ HEAD"
      ],
      "metadata": {
        "colab": {
          "base_uri": "https://localhost:8080/"
        },
        "id": "AnlgNv99BxtW",
        "outputId": "d9e3a0d8-da7f-473a-a44c-59af1ac7db85"
      },
      "execution_count": 17,
      "outputs": [
        {
          "output_type": "stream",
          "name": "stdout",
          "text": [
            "\u001b[1mdiff --git a/archivo.txt b/archivo.txt\u001b[m\n",
            "\u001b[1mindex 7babac3..e534db4 100644\u001b[m\n",
            "\u001b[1m--- a/archivo.txt\u001b[m\n",
            "\u001b[1m+++ b/archivo.txt\u001b[m\n",
            "\u001b[36m@@ -1 +1,2 @@\u001b[m\n",
            " Esta es la primera línea del archivo.\u001b[m\n",
            "\u001b[32m+\u001b[m\u001b[32mEsta es una segunda línea añadida al archivo.\u001b[m\n"
          ]
        }
      ]
    },
    {
      "cell_type": "markdown",
      "source": [
        "Mostrar el contenido detallado del último commit:"
      ],
      "metadata": {
        "id": "0ZyNjsSaB7Cb"
      }
    },
    {
      "cell_type": "code",
      "source": [
        "!git show"
      ],
      "metadata": {
        "colab": {
          "base_uri": "https://localhost:8080/"
        },
        "id": "eQHaS87MB7Sz",
        "outputId": "34f00a36-42d7-4791-a5b3-8a4a5f3219bf"
      },
      "execution_count": 18,
      "outputs": [
        {
          "output_type": "stream",
          "name": "stdout",
          "text": [
            "\u001b[33mcommit d29636281fa2c09f4d8de3298398443ee8c2b6ca\u001b[m\u001b[33m (\u001b[m\u001b[1;36mHEAD -> \u001b[m\u001b[1;32mmaster\u001b[m\u001b[33m)\u001b[m\n",
            "Author: Gus86git <gus.gjb86@gmail.com>\n",
            "Date:   Thu Sep 26 20:29:20 2024 +0000\n",
            "\n",
            "    Añadir una segunda línea al archivo.txt\n",
            "\n",
            "\u001b[1mdiff --git a/archivo.txt b/archivo.txt\u001b[m\n",
            "\u001b[1mindex 7babac3..e534db4 100644\u001b[m\n",
            "\u001b[1m--- a/archivo.txt\u001b[m\n",
            "\u001b[1m+++ b/archivo.txt\u001b[m\n",
            "\u001b[36m@@ -1 +1,2 @@\u001b[m\n",
            " Esta es la primera línea del archivo.\u001b[m\n",
            "\u001b[32m+\u001b[m\u001b[32mEsta es una segunda línea añadida al archivo.\u001b[m\n"
          ]
        }
      ]
    },
    {
      "cell_type": "markdown",
      "source": [
        "**Resumen**"
      ],
      "metadata": {
        "id": "24Q19G-7CiE_"
      }
    },
    {
      "cell_type": "markdown",
      "source": [
        "Inicializado un repositorio en Google Colab.\n",
        "\n",
        "Creado y modificado un archivo.\n",
        "\n",
        "Usado los comandos **git add**, **git commit**, y **git status** para gestionar los cambios.\n",
        "\n",
        "Visualizado el historial de commits con **git log**, y analizado las diferencias entre versiones con **git diff** y **git show**."
      ],
      "metadata": {
        "id": "H_q8CdSKCVgg"
      }
    },
    {
      "cell_type": "markdown",
      "source": [
        "# **Introducción a GitHub - Repositorio Remoto**"
      ],
      "metadata": {
        "id": "Yaxin6NqCprg"
      }
    },
    {
      "cell_type": "markdown",
      "source": [
        "**GitHub** es una plataforma para alojar y gestionar repositorios remotos utilizando Git. Permite colaborar con otros, hacer seguimiento de cambios y gestionar proyectos de manera eficiente."
      ],
      "metadata": {
        "id": "FMBj6ewEC9uJ"
      }
    },
    {
      "cell_type": "markdown",
      "source": [
        "**Repositorio Remoto:** Un repositorio remoto es un almacenamiento de código en línea donde los usuarios pueden colaborar y sincronizar sus cambios.\n",
        "\n",
        "**Diferencia con Repositorios Locales:** Mientras que un repositorio local está almacenado en tu máquina, el repositorio remoto se encuentra en la nube, permitiendo accesos y contribuciones desde cualquier lugar."
      ],
      "metadata": {
        "id": "jIfmjVWxDJMn"
      }
    },
    {
      "cell_type": "markdown",
      "source": [
        "**Creación de Cuenta en GitHub:**"
      ],
      "metadata": {
        "id": "zlBi21-pDU2V"
      }
    },
    {
      "cell_type": "markdown",
      "source": [
        "https://github.com/signup?source=login"
      ],
      "metadata": {
        "id": "cGFw0kV_DWIk"
      }
    },
    {
      "cell_type": "markdown",
      "source": [
        "**Conexión de Git con GitHub**\n",
        "\n",
        "Para vincular el repositorio local con GitHub, se necesita crear un repositorio remoto en GitHub y luego conectar ambos mediante Git."
      ],
      "metadata": {
        "id": "PhzrwCg1D-a1"
      }
    },
    {
      "cell_type": "markdown",
      "source": [
        "**Creación de un Repositorio Remoto en GitHub:**"
      ],
      "metadata": {
        "id": "-0oECpUbEZ1e"
      }
    },
    {
      "cell_type": "markdown",
      "source": [
        "Acceder a la cuenta de GitHub y hacer clic en \"New Repository\" en el panel principal.\n",
        "Asigna un nombre al repositorio, como por ejemplo \"mi_proyecto_git\", y eligir si se desea que sea público o privado."
      ],
      "metadata": {
        "id": "2BystUqvEcOW"
      }
    },
    {
      "cell_type": "markdown",
      "source": [
        "**Vinculación de Repositorios Locales y Remotos:**\n",
        "\n",
        "Después de haber creado el repositorio en GitHub, se necesita conectarlo con el repositorio local (en este caso en Google Colab)\n",
        "\n",
        "Comando **git remote add origin**:\n",
        "\n",
        "Este comando vincula tu repositorio local con el remoto que has creado en GitHub.\n",
        "\n",
        "Usar el siguiente comando, sustituyendo URL_del_repositorio con la URL del repositorio remoto (se puede obtener desde la página del repositorio en GitHub):"
      ],
      "metadata": {
        "id": "_aUWjSDkEu-L"
      }
    },
    {
      "cell_type": "markdown",
      "source": [
        "\n",
        "\n",
        "```\n",
        "!git remote add origin https://github.com/tu_usuario/mi_proyecto_git.git\n",
        "```\n",
        "\n"
      ],
      "metadata": {
        "id": "Z_sWYydKFej9"
      }
    },
    {
      "cell_type": "markdown",
      "source": [
        "**Enviar Cambios al Repositorio Remoto con git push:**\n",
        "\n",
        "Una vez que el repositorio esté vinculado, puedes subir (push) los cambios de tu repositorio local al remoto."
      ],
      "metadata": {
        "id": "ApAaegnBFjqd"
      }
    },
    {
      "cell_type": "markdown",
      "source": [],
      "metadata": {
        "id": "90BuCJDsFxwV"
      }
    },
    {
      "cell_type": "markdown",
      "source": [
        "\n",
        "\n",
        "```\n",
        "!git push -u origin master\n",
        "\n",
        "```\n",
        "\n"
      ],
      "metadata": {
        "id": "BQzPl2EGFqQd"
      }
    },
    {
      "cell_type": "markdown",
      "source": [
        "Si es la primera vez que se hace push, pedirá el nombre de usuario y token de acceso personal de GitHub (en lugar de la contraseña clásica de GitHub, ahora se utilizan tokens). Se puede crear un token desde GitHub Settings > Developer settings > Personal access tokens."
      ],
      "metadata": {
        "id": "f1znm9vtFy1-"
      }
    },
    {
      "cell_type": "markdown",
      "source": [
        "**Obtener Cambios del Repositorio Remoto con git pull:**\n",
        "\n",
        "Si se trabaja en un equipo o desde varias máquinas, es importante mantener el repositorio local sincronizado con el remoto. **git pull** descarga y aplica los últimos cambios del repositorio remoto:"
      ],
      "metadata": {
        "id": "2LGFcRoeGB3Z"
      }
    },
    {
      "cell_type": "markdown",
      "source": [
        "\n",
        "\n",
        "```\n",
        "!git pull origin master\n",
        "```\n",
        "\n"
      ],
      "metadata": {
        "id": "aUxTFRNwGOMx"
      }
    },
    {
      "cell_type": "code",
      "source": [],
      "metadata": {
        "id": "4U5pgDzRD-CN"
      },
      "execution_count": null,
      "outputs": []
    },
    {
      "cell_type": "markdown",
      "source": [
        "# **Subir tu Proyecto desde Google Colab a GitHub**"
      ],
      "metadata": {
        "id": "zCNePU5sGexX"
      }
    },
    {
      "cell_type": "markdown",
      "source": [
        "**Crear un Nuevo Repositorio en GitHub**"
      ],
      "metadata": {
        "id": "FeblE3CxGitW"
      }
    },
    {
      "cell_type": "markdown",
      "source": [
        "Acceder a tu cuenta de GitHub y crear un nuevo repositorio llamado mi_proyecto_git.\n",
        "\n",
        "Copia la URL del repositorio."
      ],
      "metadata": {
        "id": "t_8Gq237GqCe"
      }
    },
    {
      "cell_type": "markdown",
      "source": [
        "**Conectar tu Proyecto Local con el Repositorio Remoto**"
      ],
      "metadata": {
        "id": "gaYltAMPGyJM"
      }
    },
    {
      "cell_type": "markdown",
      "source": [],
      "metadata": {
        "id": "aOnNLKRWG1Ec"
      }
    },
    {
      "cell_type": "code",
      "source": [
        "%cd /content/mi_proyecto_git"
      ],
      "metadata": {
        "colab": {
          "base_uri": "https://localhost:8080/"
        },
        "id": "RhCHJDt7GwVE",
        "outputId": "d5655935-51f8-415d-a532-d99867a5e17f"
      },
      "execution_count": 21,
      "outputs": [
        {
          "output_type": "stream",
          "name": "stdout",
          "text": [
            "/content/mi_proyecto/mi_proyecto_git\n"
          ]
        }
      ]
    },
    {
      "cell_type": "markdown",
      "source": [
        "**Agregar el repositorio remoto:**"
      ],
      "metadata": {
        "id": "kwV7vuQlHgcM"
      }
    },
    {
      "cell_type": "markdown",
      "source": [
        "Usar el comando git remote add origin seguido de la URL del repositorio en GitHub:"
      ],
      "metadata": {
        "id": "gfHJT4XzH0xk"
      }
    },
    {
      "cell_type": "code",
      "source": [
        "!git remote add origin https://github.com/Gus86git/mi_proyecto_git.git"
      ],
      "metadata": {
        "id": "ZukhbHkBHxp7"
      },
      "execution_count": 22,
      "outputs": []
    },
    {
      "cell_type": "markdown",
      "source": [
        "**Verificar la conexión con el repositorio remoto:**"
      ],
      "metadata": {
        "id": "YQvmDFB4ID2r"
      }
    },
    {
      "cell_type": "code",
      "source": [
        "!git remote -v"
      ],
      "metadata": {
        "colab": {
          "base_uri": "https://localhost:8080/"
        },
        "id": "WNwRJraKIDPj",
        "outputId": "9f77b8a6-215a-41d1-88d8-dafb29fcc8c6"
      },
      "execution_count": 23,
      "outputs": [
        {
          "output_type": "stream",
          "name": "stdout",
          "text": [
            "origin\thttps://github.com/Gus86git/mi_proyecto_git.git (fetch)\n",
            "origin\thttps://github.com/Gus86git/mi_proyecto_git.git (push)\n"
          ]
        }
      ]
    },
    {
      "cell_type": "markdown",
      "source": [
        "**Lectura de un archivo RAW desde GitHub (.csv)**"
      ],
      "metadata": {
        "id": "09Tqq4tfIhAh"
      }
    },
    {
      "cell_type": "code",
      "source": [
        "import pandas as pd"
      ],
      "metadata": {
        "id": "blsDyhEULNpQ"
      },
      "execution_count": 32,
      "outputs": []
    },
    {
      "cell_type": "code",
      "source": [
        "url = 'https://raw.githubusercontent.com/Gus86git/mi_proyecto_git/refs/heads/main/Mall_Customers.csv'\n",
        "df = pd.read_csv(url)\n",
        "df.head()"
      ],
      "metadata": {
        "colab": {
          "base_uri": "https://localhost:8080/",
          "height": 206
        },
        "id": "A3I1oTKtK-r-",
        "outputId": "646812b1-460a-4f61-b9d3-437b098292a7"
      },
      "execution_count": 35,
      "outputs": [
        {
          "output_type": "execute_result",
          "data": {
            "text/plain": [
              "   CustomerID  Gender  Age  Annual Income (k$)  Spending Score (1-100)\n",
              "0           1    Male   19                  15                      39\n",
              "1           2    Male   21                  15                      81\n",
              "2           3  Female   20                  16                       6\n",
              "3           4  Female   23                  16                      77\n",
              "4           5  Female   31                  17                      40"
            ],
            "text/html": [
              "\n",
              "  <div id=\"df-77f26175-238b-4a34-affe-54f711d62a3f\" class=\"colab-df-container\">\n",
              "    <div>\n",
              "<style scoped>\n",
              "    .dataframe tbody tr th:only-of-type {\n",
              "        vertical-align: middle;\n",
              "    }\n",
              "\n",
              "    .dataframe tbody tr th {\n",
              "        vertical-align: top;\n",
              "    }\n",
              "\n",
              "    .dataframe thead th {\n",
              "        text-align: right;\n",
              "    }\n",
              "</style>\n",
              "<table border=\"1\" class=\"dataframe\">\n",
              "  <thead>\n",
              "    <tr style=\"text-align: right;\">\n",
              "      <th></th>\n",
              "      <th>CustomerID</th>\n",
              "      <th>Gender</th>\n",
              "      <th>Age</th>\n",
              "      <th>Annual Income (k$)</th>\n",
              "      <th>Spending Score (1-100)</th>\n",
              "    </tr>\n",
              "  </thead>\n",
              "  <tbody>\n",
              "    <tr>\n",
              "      <th>0</th>\n",
              "      <td>1</td>\n",
              "      <td>Male</td>\n",
              "      <td>19</td>\n",
              "      <td>15</td>\n",
              "      <td>39</td>\n",
              "    </tr>\n",
              "    <tr>\n",
              "      <th>1</th>\n",
              "      <td>2</td>\n",
              "      <td>Male</td>\n",
              "      <td>21</td>\n",
              "      <td>15</td>\n",
              "      <td>81</td>\n",
              "    </tr>\n",
              "    <tr>\n",
              "      <th>2</th>\n",
              "      <td>3</td>\n",
              "      <td>Female</td>\n",
              "      <td>20</td>\n",
              "      <td>16</td>\n",
              "      <td>6</td>\n",
              "    </tr>\n",
              "    <tr>\n",
              "      <th>3</th>\n",
              "      <td>4</td>\n",
              "      <td>Female</td>\n",
              "      <td>23</td>\n",
              "      <td>16</td>\n",
              "      <td>77</td>\n",
              "    </tr>\n",
              "    <tr>\n",
              "      <th>4</th>\n",
              "      <td>5</td>\n",
              "      <td>Female</td>\n",
              "      <td>31</td>\n",
              "      <td>17</td>\n",
              "      <td>40</td>\n",
              "    </tr>\n",
              "  </tbody>\n",
              "</table>\n",
              "</div>\n",
              "    <div class=\"colab-df-buttons\">\n",
              "\n",
              "  <div class=\"colab-df-container\">\n",
              "    <button class=\"colab-df-convert\" onclick=\"convertToInteractive('df-77f26175-238b-4a34-affe-54f711d62a3f')\"\n",
              "            title=\"Convert this dataframe to an interactive table.\"\n",
              "            style=\"display:none;\">\n",
              "\n",
              "  <svg xmlns=\"http://www.w3.org/2000/svg\" height=\"24px\" viewBox=\"0 -960 960 960\">\n",
              "    <path d=\"M120-120v-720h720v720H120Zm60-500h600v-160H180v160Zm220 220h160v-160H400v160Zm0 220h160v-160H400v160ZM180-400h160v-160H180v160Zm440 0h160v-160H620v160ZM180-180h160v-160H180v160Zm440 0h160v-160H620v160Z\"/>\n",
              "  </svg>\n",
              "    </button>\n",
              "\n",
              "  <style>\n",
              "    .colab-df-container {\n",
              "      display:flex;\n",
              "      gap: 12px;\n",
              "    }\n",
              "\n",
              "    .colab-df-convert {\n",
              "      background-color: #E8F0FE;\n",
              "      border: none;\n",
              "      border-radius: 50%;\n",
              "      cursor: pointer;\n",
              "      display: none;\n",
              "      fill: #1967D2;\n",
              "      height: 32px;\n",
              "      padding: 0 0 0 0;\n",
              "      width: 32px;\n",
              "    }\n",
              "\n",
              "    .colab-df-convert:hover {\n",
              "      background-color: #E2EBFA;\n",
              "      box-shadow: 0px 1px 2px rgba(60, 64, 67, 0.3), 0px 1px 3px 1px rgba(60, 64, 67, 0.15);\n",
              "      fill: #174EA6;\n",
              "    }\n",
              "\n",
              "    .colab-df-buttons div {\n",
              "      margin-bottom: 4px;\n",
              "    }\n",
              "\n",
              "    [theme=dark] .colab-df-convert {\n",
              "      background-color: #3B4455;\n",
              "      fill: #D2E3FC;\n",
              "    }\n",
              "\n",
              "    [theme=dark] .colab-df-convert:hover {\n",
              "      background-color: #434B5C;\n",
              "      box-shadow: 0px 1px 3px 1px rgba(0, 0, 0, 0.15);\n",
              "      filter: drop-shadow(0px 1px 2px rgba(0, 0, 0, 0.3));\n",
              "      fill: #FFFFFF;\n",
              "    }\n",
              "  </style>\n",
              "\n",
              "    <script>\n",
              "      const buttonEl =\n",
              "        document.querySelector('#df-77f26175-238b-4a34-affe-54f711d62a3f button.colab-df-convert');\n",
              "      buttonEl.style.display =\n",
              "        google.colab.kernel.accessAllowed ? 'block' : 'none';\n",
              "\n",
              "      async function convertToInteractive(key) {\n",
              "        const element = document.querySelector('#df-77f26175-238b-4a34-affe-54f711d62a3f');\n",
              "        const dataTable =\n",
              "          await google.colab.kernel.invokeFunction('convertToInteractive',\n",
              "                                                    [key], {});\n",
              "        if (!dataTable) return;\n",
              "\n",
              "        const docLinkHtml = 'Like what you see? Visit the ' +\n",
              "          '<a target=\"_blank\" href=https://colab.research.google.com/notebooks/data_table.ipynb>data table notebook</a>'\n",
              "          + ' to learn more about interactive tables.';\n",
              "        element.innerHTML = '';\n",
              "        dataTable['output_type'] = 'display_data';\n",
              "        await google.colab.output.renderOutput(dataTable, element);\n",
              "        const docLink = document.createElement('div');\n",
              "        docLink.innerHTML = docLinkHtml;\n",
              "        element.appendChild(docLink);\n",
              "      }\n",
              "    </script>\n",
              "  </div>\n",
              "\n",
              "\n",
              "<div id=\"df-ba759e1d-3b33-4a5c-875b-e98844b6a701\">\n",
              "  <button class=\"colab-df-quickchart\" onclick=\"quickchart('df-ba759e1d-3b33-4a5c-875b-e98844b6a701')\"\n",
              "            title=\"Suggest charts\"\n",
              "            style=\"display:none;\">\n",
              "\n",
              "<svg xmlns=\"http://www.w3.org/2000/svg\" height=\"24px\"viewBox=\"0 0 24 24\"\n",
              "     width=\"24px\">\n",
              "    <g>\n",
              "        <path d=\"M19 3H5c-1.1 0-2 .9-2 2v14c0 1.1.9 2 2 2h14c1.1 0 2-.9 2-2V5c0-1.1-.9-2-2-2zM9 17H7v-7h2v7zm4 0h-2V7h2v10zm4 0h-2v-4h2v4z\"/>\n",
              "    </g>\n",
              "</svg>\n",
              "  </button>\n",
              "\n",
              "<style>\n",
              "  .colab-df-quickchart {\n",
              "      --bg-color: #E8F0FE;\n",
              "      --fill-color: #1967D2;\n",
              "      --hover-bg-color: #E2EBFA;\n",
              "      --hover-fill-color: #174EA6;\n",
              "      --disabled-fill-color: #AAA;\n",
              "      --disabled-bg-color: #DDD;\n",
              "  }\n",
              "\n",
              "  [theme=dark] .colab-df-quickchart {\n",
              "      --bg-color: #3B4455;\n",
              "      --fill-color: #D2E3FC;\n",
              "      --hover-bg-color: #434B5C;\n",
              "      --hover-fill-color: #FFFFFF;\n",
              "      --disabled-bg-color: #3B4455;\n",
              "      --disabled-fill-color: #666;\n",
              "  }\n",
              "\n",
              "  .colab-df-quickchart {\n",
              "    background-color: var(--bg-color);\n",
              "    border: none;\n",
              "    border-radius: 50%;\n",
              "    cursor: pointer;\n",
              "    display: none;\n",
              "    fill: var(--fill-color);\n",
              "    height: 32px;\n",
              "    padding: 0;\n",
              "    width: 32px;\n",
              "  }\n",
              "\n",
              "  .colab-df-quickchart:hover {\n",
              "    background-color: var(--hover-bg-color);\n",
              "    box-shadow: 0 1px 2px rgba(60, 64, 67, 0.3), 0 1px 3px 1px rgba(60, 64, 67, 0.15);\n",
              "    fill: var(--button-hover-fill-color);\n",
              "  }\n",
              "\n",
              "  .colab-df-quickchart-complete:disabled,\n",
              "  .colab-df-quickchart-complete:disabled:hover {\n",
              "    background-color: var(--disabled-bg-color);\n",
              "    fill: var(--disabled-fill-color);\n",
              "    box-shadow: none;\n",
              "  }\n",
              "\n",
              "  .colab-df-spinner {\n",
              "    border: 2px solid var(--fill-color);\n",
              "    border-color: transparent;\n",
              "    border-bottom-color: var(--fill-color);\n",
              "    animation:\n",
              "      spin 1s steps(1) infinite;\n",
              "  }\n",
              "\n",
              "  @keyframes spin {\n",
              "    0% {\n",
              "      border-color: transparent;\n",
              "      border-bottom-color: var(--fill-color);\n",
              "      border-left-color: var(--fill-color);\n",
              "    }\n",
              "    20% {\n",
              "      border-color: transparent;\n",
              "      border-left-color: var(--fill-color);\n",
              "      border-top-color: var(--fill-color);\n",
              "    }\n",
              "    30% {\n",
              "      border-color: transparent;\n",
              "      border-left-color: var(--fill-color);\n",
              "      border-top-color: var(--fill-color);\n",
              "      border-right-color: var(--fill-color);\n",
              "    }\n",
              "    40% {\n",
              "      border-color: transparent;\n",
              "      border-right-color: var(--fill-color);\n",
              "      border-top-color: var(--fill-color);\n",
              "    }\n",
              "    60% {\n",
              "      border-color: transparent;\n",
              "      border-right-color: var(--fill-color);\n",
              "    }\n",
              "    80% {\n",
              "      border-color: transparent;\n",
              "      border-right-color: var(--fill-color);\n",
              "      border-bottom-color: var(--fill-color);\n",
              "    }\n",
              "    90% {\n",
              "      border-color: transparent;\n",
              "      border-bottom-color: var(--fill-color);\n",
              "    }\n",
              "  }\n",
              "</style>\n",
              "\n",
              "  <script>\n",
              "    async function quickchart(key) {\n",
              "      const quickchartButtonEl =\n",
              "        document.querySelector('#' + key + ' button');\n",
              "      quickchartButtonEl.disabled = true;  // To prevent multiple clicks.\n",
              "      quickchartButtonEl.classList.add('colab-df-spinner');\n",
              "      try {\n",
              "        const charts = await google.colab.kernel.invokeFunction(\n",
              "            'suggestCharts', [key], {});\n",
              "      } catch (error) {\n",
              "        console.error('Error during call to suggestCharts:', error);\n",
              "      }\n",
              "      quickchartButtonEl.classList.remove('colab-df-spinner');\n",
              "      quickchartButtonEl.classList.add('colab-df-quickchart-complete');\n",
              "    }\n",
              "    (() => {\n",
              "      let quickchartButtonEl =\n",
              "        document.querySelector('#df-ba759e1d-3b33-4a5c-875b-e98844b6a701 button');\n",
              "      quickchartButtonEl.style.display =\n",
              "        google.colab.kernel.accessAllowed ? 'block' : 'none';\n",
              "    })();\n",
              "  </script>\n",
              "</div>\n",
              "\n",
              "    </div>\n",
              "  </div>\n"
            ],
            "application/vnd.google.colaboratory.intrinsic+json": {
              "type": "dataframe",
              "variable_name": "df",
              "summary": "{\n  \"name\": \"df\",\n  \"rows\": 200,\n  \"fields\": [\n    {\n      \"column\": \"CustomerID\",\n      \"properties\": {\n        \"dtype\": \"number\",\n        \"std\": 57,\n        \"min\": 1,\n        \"max\": 200,\n        \"num_unique_values\": 200,\n        \"samples\": [\n          96,\n          16,\n          31\n        ],\n        \"semantic_type\": \"\",\n        \"description\": \"\"\n      }\n    },\n    {\n      \"column\": \"Gender\",\n      \"properties\": {\n        \"dtype\": \"category\",\n        \"num_unique_values\": 2,\n        \"samples\": [\n          \"Female\",\n          \"Male\"\n        ],\n        \"semantic_type\": \"\",\n        \"description\": \"\"\n      }\n    },\n    {\n      \"column\": \"Age\",\n      \"properties\": {\n        \"dtype\": \"number\",\n        \"std\": 13,\n        \"min\": 18,\n        \"max\": 70,\n        \"num_unique_values\": 51,\n        \"samples\": [\n          55,\n          26\n        ],\n        \"semantic_type\": \"\",\n        \"description\": \"\"\n      }\n    },\n    {\n      \"column\": \"Annual Income (k$)\",\n      \"properties\": {\n        \"dtype\": \"number\",\n        \"std\": 26,\n        \"min\": 15,\n        \"max\": 137,\n        \"num_unique_values\": 64,\n        \"samples\": [\n          87,\n          101\n        ],\n        \"semantic_type\": \"\",\n        \"description\": \"\"\n      }\n    },\n    {\n      \"column\": \"Spending Score (1-100)\",\n      \"properties\": {\n        \"dtype\": \"number\",\n        \"std\": 25,\n        \"min\": 1,\n        \"max\": 99,\n        \"num_unique_values\": 84,\n        \"samples\": [\n          83,\n          39\n        ],\n        \"semantic_type\": \"\",\n        \"description\": \"\"\n      }\n    }\n  ]\n}"
            }
          },
          "metadata": {},
          "execution_count": 35
        }
      ]
    },
    {
      "cell_type": "code",
      "source": [
        "df.info()"
      ],
      "metadata": {
        "colab": {
          "base_uri": "https://localhost:8080/"
        },
        "id": "WYFFZMwELneh",
        "outputId": "5e26d1d1-49c5-4466-876c-3d28accb0f7a"
      },
      "execution_count": 36,
      "outputs": [
        {
          "output_type": "stream",
          "name": "stdout",
          "text": [
            "<class 'pandas.core.frame.DataFrame'>\n",
            "RangeIndex: 200 entries, 0 to 199\n",
            "Data columns (total 5 columns):\n",
            " #   Column                  Non-Null Count  Dtype \n",
            "---  ------                  --------------  ----- \n",
            " 0   CustomerID              200 non-null    int64 \n",
            " 1   Gender                  200 non-null    object\n",
            " 2   Age                     200 non-null    int64 \n",
            " 3   Annual Income (k$)      200 non-null    int64 \n",
            " 4   Spending Score (1-100)  200 non-null    int64 \n",
            "dtypes: int64(4), object(1)\n",
            "memory usage: 7.9+ KB\n"
          ]
        }
      ]
    }
  ]
}